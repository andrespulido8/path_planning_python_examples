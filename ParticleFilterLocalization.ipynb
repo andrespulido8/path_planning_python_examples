{
 "cells": [
  {
   "cell_type": "markdown",
   "metadata": {
    "id": "rP2gVxWvX5jw"
   },
   "source": [
    "# Load the map\n",
    "\n",
    "We will first load the map file, which gives the terrain information. Choose the right file."
   ]
  },
  {
   "cell_type": "code",
   "execution_count": null,
   "metadata": {
    "colab": {
     "base_uri": "https://localhost:8080/",
     "height": 211
    },
    "id": "hdoVlLdXXuqU",
    "outputId": "587ed490-5691-4243-fcbd-c83c24aefb84"
   },
   "outputs": [],
   "source": [
    "import numpy as np\n",
    "import cv2\n",
    "import matplotlib.pyplot as plt\n",
    "import ipywidgets as widgets\n",
    "from IPython.display import display, clear_output\n",
    "# from google.colab.patches import cv2_imshow\n",
    "# from google.colab import output\n",
    "import ipywidgets as widgets\n",
    "from IPython.display import display\n",
    "\n",
    "# Load the map image. Use 0 for grayscale, single-channel\n",
    "map = cv2.imread(\"map.png\", 0)\n",
    "HEIGHT, WIDTH = map.shape # get the dimensions of the map image\n",
    "\n",
    "# Set a random initial robot pose\n",
    "rx, ry, rtheta = (WIDTH / 4, HEIGHT / 4, 0)\n",
    "\n",
    "print(map) # check the map"
   ]
  },
  {
   "cell_type": "markdown",
   "metadata": {
    "id": "caYVQ_HQd_AV"
   },
   "source": [
    "Below code is written to check the map and initial robot position."
   ]
  },
  {
   "cell_type": "code",
   "execution_count": null,
   "metadata": {
    "colab": {
     "base_uri": "https://localhost:8080/",
     "height": 653
    },
    "id": "7MgJ3uQUcrO7",
    "outputId": "a37a5bcf-c207-4d37-8b93-d963e41a0311"
   },
   "outputs": [],
   "source": [
    "fig, ax = plt.subplots(figsize=(8, 8))\n",
    "ax.imshow(map, cmap='gray')\n",
    "ax.scatter([rx], [ry], color='green', s=100, edgecolors='black')  # Green dot for robot\n",
    "ax.set_axis_off()\n",
    "plt.show()"
   ]
  },
  {
   "cell_type": "markdown",
   "metadata": {
    "id": "N6XtB57pjk7D"
   },
   "source": [
    "In reality, you have uneven terrain. So, your robot will not move as you command. You can model this uncertainty using noise. We will use Gaussian noise."
   ]
  },
  {
   "cell_type": "code",
   "execution_count": 3,
   "metadata": {
    "id": "7nnQZ4UzfbFo"
   },
   "outputs": [],
   "source": [
    "# Step size in pixels and turn in radians\n",
    "STEP = 5\n",
    "TURN = np.radians(25)\n",
    "\n",
    "# Standard deviations for motion and sensing noise\n",
    "SIGMA_STEP = 0.5\n",
    "SIGMA_TURN = np.radians(5)\n",
    "\n",
    "# Move robot with noise\n",
    "def move_robot(rx, ry, rtheta, fwd, turn):\n",
    "    fwd_noisy = fwd + np.random.normal(0, SIGMA_STEP)\n",
    "    turn_noisy = turn + np.random.normal(0, SIGMA_TURN)\n",
    "    rx += fwd_noisy * np.cos(rtheta)\n",
    "    ry += fwd_noisy * np.sin(rtheta)\n",
    "    rtheta += turn_noisy\n",
    "    return rx, ry, rtheta"
   ]
  },
  {
   "cell_type": "markdown",
   "metadata": {
    "id": "qsdgIAR5mUPQ"
   },
   "source": [
    "# Particle Filter Initialization\n",
    "\n",
    "Now, we are ready to use particle filter to localize our robot. First of all, we need to initialize the particles."
   ]
  },
  {
   "cell_type": "code",
   "execution_count": null,
   "metadata": {
    "colab": {
     "base_uri": "https://localhost:8080/",
     "height": 653
    },
    "id": "p2khCJZITxnt",
    "outputId": "dfc641e3-1863-4088-a47b-4d52c3366480"
   },
   "outputs": [],
   "source": [
    "NUM_PARTICLES = 3000\n",
    "\n",
    "# Initialize particles\n",
    "def init():\n",
    "    particles = np.random.rand(NUM_PARTICLES, 3)\n",
    "    particles *= np.array((WIDTH, HEIGHT, np.radians(360)))\n",
    "    return particles\n",
    "\n",
    "# Plot map and particles\n",
    "def plot_on_map(map, rx, ry, particles):\n",
    "    clear_output(wait=True)\n",
    "    fig, ax = plt.subplots(figsize=(8, 8))\n",
    "    ax.imshow(map, cmap='gray')\n",
    "    ax.scatter(particles[:, 0], particles[:, 1], color='blue', s=1)\n",
    "    ax.scatter([rx], [ry], color='green', s=100, edgecolors='black') # truth\n",
    "    if len(particles) > 0:\n",
    "        px = np.mean(particles[:, 0])\n",
    "        py = np.mean(particles[:, 1])\n",
    "        ax.scatter([px], [py], color='red', s=100, edgecolors='black') # estimation\n",
    "    ax.axis('off')\n",
    "    plt.show()\n",
    "\n",
    "particles = init()\n",
    "plot_on_map(map, rx, ry, particles)"
   ]
  },
  {
   "cell_type": "markdown",
   "metadata": {
    "id": "buUkvqE1l4Bw"
   },
   "source": [
    "When we get a command from keyboards, we update the particles based on the command."
   ]
  },
  {
   "cell_type": "code",
   "execution_count": 5,
   "metadata": {
    "id": "Cos9Wo2Zmkgg"
   },
   "outputs": [],
   "source": [
    "# Move particles based on the command\n",
    "def move_particles(particles, fwd, turn):\n",
    "    particles[:, 0] += fwd * np.cos(particles[:, 2])\n",
    "    particles[:, 1] += fwd * np.sin(particles[:, 2])\n",
    "    particles[:, 2] += turn\n",
    "    return particles"
   ]
  },
  {
   "cell_type": "markdown",
   "metadata": {
    "id": "n1xtWnJOfd4E"
   },
   "source": [
    "# Sensor measurement model\n",
    "\n",
    "Now, we need to model how the robot obtains its elevation. The sensor readings should have noise, and the noise is modeled as Gaussian.\n"
   ]
  },
  {
   "cell_type": "code",
   "execution_count": 6,
   "metadata": {
    "id": "wM18jfcqfdXi"
   },
   "outputs": [],
   "source": [
    "SIGMA_SENSOR = 5\n",
    "\n",
    "def sense(x, y, noisy=False):\n",
    "    x = int(x)\n",
    "    y = int(y)\n",
    "\n",
    "    # when x and y are out of range, get the value at the edge\n",
    "    if x > WIDTH - 1:\n",
    "      x = WIDTH - 1\n",
    "    if x < 0:\n",
    "      x = 0\n",
    "    if y > HEIGHT - 1:\n",
    "      y = HEIGHT - 1\n",
    "    if y < 0:\n",
    "      y = 0\n",
    "\n",
    "    if noisy:\n",
    "        return map[y,x] + np.random.normal(0.0, SIGMA_SENSOR, 1)\n",
    "    return map[y,x]"
   ]
  },
  {
   "cell_type": "markdown",
   "metadata": {
    "id": "Vn0Mtr3yfglo"
   },
   "source": [
    "# Resample the particles\n",
    "\n",
    "Now we will use particle weights to make the estimation better."
   ]
  },
  {
   "cell_type": "code",
   "execution_count": 7,
   "metadata": {
    "id": "BrCeGhhrnwbR"
   },
   "outputs": [],
   "source": [
    "# Compute particle weights\n",
    "def compute_weights(particles, robot_sensor):\n",
    "    errors = np.zeros(NUM_PARTICLES)\n",
    "    for i in range(NUM_PARTICLES):\n",
    "        particle_sensor = sense(particles[i,0], particles[i,1])\n",
    "        errors[i] = abs(robot_sensor - particle_sensor)\n",
    "    weights = np.max(errors) - errors\n",
    "\n",
    "    # Kill off particles on edge\n",
    "    weights[\n",
    "        (particles[:,0] <= 0) |\n",
    "        (particles[:,0] >= WIDTH-1) |\n",
    "        (particles[:,1] <= 0) |\n",
    "        (particles[:,1] >= HEIGHT-1)\n",
    "    ] = 0.0\n",
    "\n",
    "    # Increase sensitivity\n",
    "    weights = weights ** 3\n",
    "    return weights"
   ]
  },
  {
   "cell_type": "markdown",
   "metadata": {
    "id": "Cgure1uMpGGM"
   },
   "source": [
    "Now, the particles with higher weights would have been sampled more. The particles with lower weights would have not been sampled that much."
   ]
  },
  {
   "cell_type": "code",
   "execution_count": 8,
   "metadata": {
    "id": "jp1Ax4erfg3V"
   },
   "outputs": [],
   "source": [
    "# Resample particles\n",
    "def resample(particles, weights):\n",
    "    probabilities = weights / np.sum(weights)\n",
    "    new_index = np.random.choice(NUM_PARTICLES, size=NUM_PARTICLES, p=probabilities)\n",
    "    return particles[new_index, :]"
   ]
  },
  {
   "cell_type": "markdown",
   "metadata": {
    "id": "r3hH-sG5pPAu"
   },
   "source": [
    "Next, we will perturb the particles. This will improve estimation performance because we have lots of uncertainties. Here, we have uncertainteis from the motion model and sensor readings. So, we need to address those uncertainties in estimation. Again, we will use Gaussian noise."
   ]
  },
  {
   "cell_type": "code",
   "execution_count": 9,
   "metadata": {
    "id": "71d3yeedoweu"
   },
   "outputs": [],
   "source": [
    "SIGMA_PARTICLE_STEP = 2 #2\n",
    "SIGMA_PARTICLE_TURN = np.pi / 24 #np.pi / 24\n",
    "\n",
    "def add_noise(particles):\n",
    "    noise = np.concatenate((\n",
    "        np.random.normal(0, SIGMA_PARTICLE_STEP, (NUM_PARTICLES,1)),\n",
    "        np.random.normal(0, SIGMA_PARTICLE_STEP, (NUM_PARTICLES,1)),\n",
    "        np.random.normal(0, SIGMA_PARTICLE_TURN, (NUM_PARTICLES,1)),\n",
    "        ),\n",
    "        axis=1\n",
    "    )\n",
    "    particles += noise\n",
    "    return particles"
   ]
  },
  {
   "cell_type": "markdown",
   "metadata": {
    "id": "86YSvBvYfYZ4"
   },
   "source": [
    "# Let the robot move with keyboards with Particle Filter\n",
    "\n",
    "We will manipulate the robot using keyboards."
   ]
  },
  {
   "cell_type": "code",
   "execution_count": 10,
   "metadata": {
    "id": "Qhl4Ue1WVFei"
   },
   "outputs": [],
   "source": [
    "# Define button actions\n",
    "def move_forward(b):\n",
    "    global rx, ry, rtheta, particles\n",
    "    fwd, turn = STEP, 0\n",
    "    update_robot_and_particles(fwd, turn)\n",
    "\n",
    "def turn_left(b):\n",
    "    global rx, ry, rtheta, particles\n",
    "    fwd, turn = 0, -TURN\n",
    "    update_robot_and_particles(fwd, turn)\n",
    "\n",
    "def turn_right(b):\n",
    "    global rx, ry, rtheta, particles\n",
    "    fwd, turn = 0, TURN\n",
    "    update_robot_and_particles(fwd, turn)\n",
    "\n",
    "def update_robot_and_particles(fwd, turn):\n",
    "    global rx, ry, rtheta, particles\n",
    "    rx, ry, rtheta = move_robot(rx, ry, rtheta, fwd, turn)\n",
    "    particles = move_particles(particles, fwd, turn)\n",
    "    robot_sensor = sense(rx, ry, noisy=True)\n",
    "    weights = compute_weights(particles, robot_sensor)\n",
    "    particles = resample(particles, weights)\n",
    "    particles = add_noise(particles)\n",
    "    plot_on_map(map, rx, ry, particles)\n",
    "    display(button_forward, button_left, button_right)\n",
    "\n",
    "# Create buttons for robot control\n",
    "button_forward = widgets.Button(description=\"Move Forward\")\n",
    "button_left = widgets.Button(description=\"Turn Left\")\n",
    "button_right = widgets.Button(description=\"Turn Right\")\n",
    "\n",
    "# Set button on_click events\n",
    "button_forward.on_click(move_forward)\n",
    "button_left.on_click(turn_left)\n",
    "button_right.on_click(turn_right)"
   ]
  },
  {
   "cell_type": "markdown",
   "metadata": {
    "id": "28BKsQQgqSzU"
   },
   "source": [
    "# Main code to run particle filter"
   ]
  },
  {
   "cell_type": "code",
   "execution_count": null,
   "metadata": {
    "colab": {
     "base_uri": "https://localhost:8080/",
     "height": 749,
     "referenced_widgets": [
      "d3daaa95901c4bb5ac8f8a9d3a57d5e3",
      "05cccc861a8b4138933e1c0e6efae748",
      "61cb048c92e54c0fb7a4dfb3fcf9724c",
      "87f502fb9d0c4a8aa4b873b190d88c5a",
      "54493f76c2c3486295b49bd0fd5718cd",
      "1ccbca08cd5a44adac26175f0abc84db",
      "917cfcde243743889f2e939b0e249999",
      "3150719cc06a40b68922321d5454573a",
      "780958be061a451f94022a0eadd9465a"
     ]
    },
    "id": "74xnY_CHqQoI",
    "outputId": "680edf99-a344-4d95-f6c0-d4ab554e9e48"
   },
   "outputs": [],
   "source": [
    "# Start by showing the image with the dot in the initial position\n",
    "plot_on_map(map, rx, ry, particles)\n",
    "\n",
    "# Display buttons\n",
    "display(button_forward, button_left, button_right)\n"
   ]
  },
  {
   "cell_type": "code",
   "execution_count": null,
   "metadata": {},
   "outputs": [],
   "source": []
  }
 ],
 "metadata": {
  "colab": {
   "provenance": []
  },
  "kernelspec": {
   "display_name": "venv_tensorflow",
   "language": "python",
   "name": "venv_tensorflow"
  },
  "language_info": {
   "codemirror_mode": {
    "name": "ipython",
    "version": 3
   },
   "file_extension": ".py",
   "mimetype": "text/x-python",
   "name": "python",
   "nbconvert_exporter": "python",
   "pygments_lexer": "ipython3",
   "version": "3.8.10"
  },
  "widgets": {
   "application/vnd.jupyter.widget-state+json": {
    "05cccc861a8b4138933e1c0e6efae748": {
     "model_module": "@jupyter-widgets/base",
     "model_module_version": "1.2.0",
     "model_name": "LayoutModel",
     "state": {
      "_model_module": "@jupyter-widgets/base",
      "_model_module_version": "1.2.0",
      "_model_name": "LayoutModel",
      "_view_count": null,
      "_view_module": "@jupyter-widgets/base",
      "_view_module_version": "1.2.0",
      "_view_name": "LayoutView",
      "align_content": null,
      "align_items": null,
      "align_self": null,
      "border": null,
      "bottom": null,
      "display": null,
      "flex": null,
      "flex_flow": null,
      "grid_area": null,
      "grid_auto_columns": null,
      "grid_auto_flow": null,
      "grid_auto_rows": null,
      "grid_column": null,
      "grid_gap": null,
      "grid_row": null,
      "grid_template_areas": null,
      "grid_template_columns": null,
      "grid_template_rows": null,
      "height": null,
      "justify_content": null,
      "justify_items": null,
      "left": null,
      "margin": null,
      "max_height": null,
      "max_width": null,
      "min_height": null,
      "min_width": null,
      "object_fit": null,
      "object_position": null,
      "order": null,
      "overflow": null,
      "overflow_x": null,
      "overflow_y": null,
      "padding": null,
      "right": null,
      "top": null,
      "visibility": null,
      "width": null
     }
    },
    "1ccbca08cd5a44adac26175f0abc84db": {
     "model_module": "@jupyter-widgets/controls",
     "model_module_version": "1.5.0",
     "model_name": "ButtonStyleModel",
     "state": {
      "_model_module": "@jupyter-widgets/controls",
      "_model_module_version": "1.5.0",
      "_model_name": "ButtonStyleModel",
      "_view_count": null,
      "_view_module": "@jupyter-widgets/base",
      "_view_module_version": "1.2.0",
      "_view_name": "StyleView",
      "button_color": null,
      "font_weight": ""
     }
    },
    "3150719cc06a40b68922321d5454573a": {
     "model_module": "@jupyter-widgets/base",
     "model_module_version": "1.2.0",
     "model_name": "LayoutModel",
     "state": {
      "_model_module": "@jupyter-widgets/base",
      "_model_module_version": "1.2.0",
      "_model_name": "LayoutModel",
      "_view_count": null,
      "_view_module": "@jupyter-widgets/base",
      "_view_module_version": "1.2.0",
      "_view_name": "LayoutView",
      "align_content": null,
      "align_items": null,
      "align_self": null,
      "border": null,
      "bottom": null,
      "display": null,
      "flex": null,
      "flex_flow": null,
      "grid_area": null,
      "grid_auto_columns": null,
      "grid_auto_flow": null,
      "grid_auto_rows": null,
      "grid_column": null,
      "grid_gap": null,
      "grid_row": null,
      "grid_template_areas": null,
      "grid_template_columns": null,
      "grid_template_rows": null,
      "height": null,
      "justify_content": null,
      "justify_items": null,
      "left": null,
      "margin": null,
      "max_height": null,
      "max_width": null,
      "min_height": null,
      "min_width": null,
      "object_fit": null,
      "object_position": null,
      "order": null,
      "overflow": null,
      "overflow_x": null,
      "overflow_y": null,
      "padding": null,
      "right": null,
      "top": null,
      "visibility": null,
      "width": null
     }
    },
    "54493f76c2c3486295b49bd0fd5718cd": {
     "model_module": "@jupyter-widgets/base",
     "model_module_version": "1.2.0",
     "model_name": "LayoutModel",
     "state": {
      "_model_module": "@jupyter-widgets/base",
      "_model_module_version": "1.2.0",
      "_model_name": "LayoutModel",
      "_view_count": null,
      "_view_module": "@jupyter-widgets/base",
      "_view_module_version": "1.2.0",
      "_view_name": "LayoutView",
      "align_content": null,
      "align_items": null,
      "align_self": null,
      "border": null,
      "bottom": null,
      "display": null,
      "flex": null,
      "flex_flow": null,
      "grid_area": null,
      "grid_auto_columns": null,
      "grid_auto_flow": null,
      "grid_auto_rows": null,
      "grid_column": null,
      "grid_gap": null,
      "grid_row": null,
      "grid_template_areas": null,
      "grid_template_columns": null,
      "grid_template_rows": null,
      "height": null,
      "justify_content": null,
      "justify_items": null,
      "left": null,
      "margin": null,
      "max_height": null,
      "max_width": null,
      "min_height": null,
      "min_width": null,
      "object_fit": null,
      "object_position": null,
      "order": null,
      "overflow": null,
      "overflow_x": null,
      "overflow_y": null,
      "padding": null,
      "right": null,
      "top": null,
      "visibility": null,
      "width": null
     }
    },
    "61cb048c92e54c0fb7a4dfb3fcf9724c": {
     "model_module": "@jupyter-widgets/controls",
     "model_module_version": "1.5.0",
     "model_name": "ButtonStyleModel",
     "state": {
      "_model_module": "@jupyter-widgets/controls",
      "_model_module_version": "1.5.0",
      "_model_name": "ButtonStyleModel",
      "_view_count": null,
      "_view_module": "@jupyter-widgets/base",
      "_view_module_version": "1.2.0",
      "_view_name": "StyleView",
      "button_color": null,
      "font_weight": ""
     }
    },
    "780958be061a451f94022a0eadd9465a": {
     "model_module": "@jupyter-widgets/controls",
     "model_module_version": "1.5.0",
     "model_name": "ButtonStyleModel",
     "state": {
      "_model_module": "@jupyter-widgets/controls",
      "_model_module_version": "1.5.0",
      "_model_name": "ButtonStyleModel",
      "_view_count": null,
      "_view_module": "@jupyter-widgets/base",
      "_view_module_version": "1.2.0",
      "_view_name": "StyleView",
      "button_color": null,
      "font_weight": ""
     }
    },
    "87f502fb9d0c4a8aa4b873b190d88c5a": {
     "model_module": "@jupyter-widgets/controls",
     "model_module_version": "1.5.0",
     "model_name": "ButtonModel",
     "state": {
      "_dom_classes": [],
      "_model_module": "@jupyter-widgets/controls",
      "_model_module_version": "1.5.0",
      "_model_name": "ButtonModel",
      "_view_count": null,
      "_view_module": "@jupyter-widgets/controls",
      "_view_module_version": "1.5.0",
      "_view_name": "ButtonView",
      "button_style": "",
      "description": "Turn Left",
      "disabled": false,
      "icon": "",
      "layout": "IPY_MODEL_54493f76c2c3486295b49bd0fd5718cd",
      "style": "IPY_MODEL_1ccbca08cd5a44adac26175f0abc84db",
      "tooltip": ""
     }
    },
    "917cfcde243743889f2e939b0e249999": {
     "model_module": "@jupyter-widgets/controls",
     "model_module_version": "1.5.0",
     "model_name": "ButtonModel",
     "state": {
      "_dom_classes": [],
      "_model_module": "@jupyter-widgets/controls",
      "_model_module_version": "1.5.0",
      "_model_name": "ButtonModel",
      "_view_count": null,
      "_view_module": "@jupyter-widgets/controls",
      "_view_module_version": "1.5.0",
      "_view_name": "ButtonView",
      "button_style": "",
      "description": "Turn Right",
      "disabled": false,
      "icon": "",
      "layout": "IPY_MODEL_3150719cc06a40b68922321d5454573a",
      "style": "IPY_MODEL_780958be061a451f94022a0eadd9465a",
      "tooltip": ""
     }
    },
    "d3daaa95901c4bb5ac8f8a9d3a57d5e3": {
     "model_module": "@jupyter-widgets/controls",
     "model_module_version": "1.5.0",
     "model_name": "ButtonModel",
     "state": {
      "_dom_classes": [],
      "_model_module": "@jupyter-widgets/controls",
      "_model_module_version": "1.5.0",
      "_model_name": "ButtonModel",
      "_view_count": null,
      "_view_module": "@jupyter-widgets/controls",
      "_view_module_version": "1.5.0",
      "_view_name": "ButtonView",
      "button_style": "",
      "description": "Move Forward",
      "disabled": false,
      "icon": "",
      "layout": "IPY_MODEL_05cccc861a8b4138933e1c0e6efae748",
      "style": "IPY_MODEL_61cb048c92e54c0fb7a4dfb3fcf9724c",
      "tooltip": ""
     }
    }
   }
  }
 },
 "nbformat": 4,
 "nbformat_minor": 1
}
